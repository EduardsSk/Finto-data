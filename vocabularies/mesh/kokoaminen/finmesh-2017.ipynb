{
 "metadata": {
  "name": "",
  "signature": "sha256:531c2a88299e3071348cb03573dacbd54f4c91cb81da079aaca869852bc30b79"
 },
 "nbformat": 3,
 "nbformat_minor": 0,
 "worksheets": [
  {
   "cells": [
    {
     "cell_type": "code",
     "collapsed": false,
     "input": [
      "import rdflib, sys, codecs, time\n",
      "import unicodecsv as csv\n",
      "from rdflib import Graph, Namespace, RDF, Literal, URIRef\n",
      "skos = Namespace(\"http://www.w3.org/2004/02/skos/core#\")\n",
      "mesh = Namespace(\"http://www.yso.fi/onto/mesh/\")"
     ],
     "language": "python",
     "metadata": {},
     "outputs": [],
     "prompt_number": 6
    },
    {
     "cell_type": "code",
     "collapsed": false,
     "input": [
      "old_mesh = Graph().parse('mesh-skos.ttl', format='turtle')"
     ],
     "language": "python",
     "metadata": {},
     "outputs": [],
     "prompt_number": 7
    },
    {
     "cell_type": "code",
     "collapsed": false,
     "input": [
      "new_mesh = Graph().parse('mesh2017-skos.ttl', format='turtle')"
     ],
     "language": "python",
     "metadata": {},
     "outputs": [],
     "prompt_number": 69
    },
    {
     "cell_type": "code",
     "collapsed": false,
     "input": [
      "start = time.time()\n",
      "\n",
      "finmesh = Graph()\n",
      "fin_labels = codecs.open('FinMeSH_24032017.txt', 'rU', 'utf-8')\n",
      "\n",
      "i = 0\n",
      "prefEn = ''\n",
      "prefFi = ''\n",
      "olduri = ''\n",
      "uri = ''\n",
      "old = []\n",
      "new = []\n",
      "mysteerialtit = []\n",
      "probconcs = []\n",
      "newconcalts = []\n",
      "missingnewuri = []\n",
      "\n",
      "for row in fin_labels:\n",
      "    i += 1\n",
      "    row = row.strip()\n",
      "    # empty line marks a new concept using len > 1 to skip BOM on first line (encoding error?)\n",
      "    if len(row) <= 1:\n",
      "        prefEn = ''\n",
      "        prefFi = ''\n",
      "        olduri = ''\n",
      "        uri = ''\n",
      "        continue\n",
      "         \n",
      "    if prefEn == '':\n",
      "        prefEn = Literal(row, lang='en')\n",
      "        for conc in old_mesh.subjects(skos.prefLabel, prefEn):\n",
      "            olduri = conc\n",
      "            if conc not in old:\n",
      "                old.append(conc)\n",
      "        for conc in new_mesh.subjects(skos.prefLabel, prefEn):\n",
      "            uri = conc\n",
      "            if conc not in new:\n",
      "                new.append(conc)\n",
      "            \n",
      "        if uri == '': #and 'Processes' not in prefEn.toPython() and 'Phenomena' not in prefEn.toPython():\n",
      "            print 'Ei uria termille: \"' + prefEn.toPython() + '\"'\n",
      "        \n",
      "    elif uri != '' and prefFi == '':\n",
      "        prefFi = Literal(row, lang='fi')\n",
      "        finmesh.add((uri, skos.prefLabel, prefFi))\n",
      "    else: # altLabels\n",
      "        if uri == '':\n",
      "            continue\n",
      "        if olduri != '':\n",
      "            #if row not in mysteerialtit: \n",
      "            #    continue # already found in a previous iteration\n",
      "            found = False\n",
      "            for alt in old_mesh.objects(olduri, skos.altLabel):\n",
      "                if alt.toPython() == row:\n",
      "                    found = True\n",
      "                    finmesh.add((uri, skos.altLabel, Literal(row, lang=alt.language)))\n",
      "                    break\n",
      "            if not found:\n",
      "                for hid in old_mesh.objects(olduri, skos.hiddenLabel):\n",
      "                    if hid.toPython() == row:\n",
      "                        found = True\n",
      "                        finmesh.add((uri, skos.hiddenLabel, Literal(row, lang=hid.language)))\n",
      "                        break\n",
      "                if not found:\n",
      "                    finmesh.add((conc, skos.altLabel, Literal(row, lang='fi')))\n",
      "                    if row not in mysteerialtit:\n",
      "                        mysteerialtit.append(row)\n",
      "                    if olduri not in probconcs:\n",
      "                        probconcs.append(olduri)\n",
      "        else: # new concepts so altLabels are hopefully in finnish\n",
      "            finmesh.add((uri, skos.altLabel, Literal(row, lang='fi')))\n",
      "            newconcalts.append(row)\n",
      "    \n",
      "\n",
      "print 'vanhassa: ' + str(len(old))\n",
      "print 'uudessa: ' + str(len(new))\n",
      "print 'uusia: ' + str(len(new) - len(old))\n",
      "print 'ongelmak\u00e4sitteit\u00e4: ' + str(len(probconcs))\n",
      "print 'uusien k\u00e4sitteiden altteja: ' + str(len(newconcalts))\n",
      "end = time.time()\n",
      "#minutes = (end - start) / 60\n",
      "print(end - start)"
     ],
     "language": "python",
     "metadata": {},
     "outputs": [
      {
       "output_type": "stream",
       "stream": "stdout",
       "text": [
        "Ei uria termille: \"Agavaceae\"\n",
        "Ei uria termille: \"Anoxia\""
       ]
      },
      {
       "output_type": "stream",
       "stream": "stdout",
       "text": [
        "\n",
        "Ei uria termille: \"Astronomical Processes\""
       ]
      },
      {
       "output_type": "stream",
       "stream": "stdout",
       "text": [
        "\n",
        "Ei uria termille: \"Bacterial Processes\""
       ]
      },
      {
       "output_type": "stream",
       "stream": "stdout",
       "text": [
        "\n",
        "Ei uria termille: \"B-Cell-Specific Activator Protein\""
       ]
      },
      {
       "output_type": "stream",
       "stream": "stdout",
       "text": [
        "\n",
        "Ei uria termille: \"Bicyclo Compounds\""
       ]
      },
      {
       "output_type": "stream",
       "stream": "stdout",
       "text": [
        "\n",
        "Ei uria termille: \"Bicyclo Compounds, Heterocyclic\"\n",
        "Ei uria termille: \"Biochemical Processes\""
       ]
      },
      {
       "output_type": "stream",
       "stream": "stdout",
       "text": [
        "\n",
        "Ei uria termille: \"Biological Processes\""
       ]
      },
      {
       "output_type": "stream",
       "stream": "stdout",
       "text": [
        "\n",
        "Ei uria termille: \"Biophysical Processes\""
       ]
      },
      {
       "output_type": "stream",
       "stream": "stdout",
       "text": [
        "\n",
        "Ei uria termille: \"Blood Physiological Processes\""
       ]
      },
      {
       "output_type": "stream",
       "stream": "stdout",
       "text": [
        "\n",
        "Ei uria termille: \"Blueberry Plant\""
       ]
      },
      {
       "output_type": "stream",
       "stream": "stdout",
       "text": [
        "\n",
        "Ei uria termille: \"Body, Physical Appearance\""
       ]
      },
      {
       "output_type": "stream",
       "stream": "stdout",
       "text": [
        "\n",
        "Ei uria termille: \"Bridged Compounds\""
       ]
      },
      {
       "output_type": "stream",
       "stream": "stdout",
       "text": [
        "\n",
        "Ei uria termille: \"Camels\""
       ]
      },
      {
       "output_type": "stream",
       "stream": "stdout",
       "text": [
        "\n",
        "Ei uria termille: \"Cardiovascular Physiological Processes\""
       ]
      },
      {
       "output_type": "stream",
       "stream": "stdout",
       "text": [
        "\n",
        "Ei uria termille: \"Cell Physiological Processes\""
       ]
      },
      {
       "output_type": "stream",
       "stream": "stdout",
       "text": [
        "\n",
        "Ei uria termille: \"Chemical Processes\""
       ]
      },
      {
       "output_type": "stream",
       "stream": "stdout",
       "text": [
        "\n",
        "Ei uria termille: \"Chitinase\""
       ]
      },
      {
       "output_type": "stream",
       "stream": "stdout",
       "text": [
        "\n",
        "Ei uria termille: \"Consumer Participation\""
       ]
      },
      {
       "output_type": "stream",
       "stream": "stdout",
       "text": [
        "\n",
        "Ei uria termille: \"Dental Physiological Processes\""
       ]
      },
      {
       "output_type": "stream",
       "stream": "stdout",
       "text": [
        "\n",
        "Ei uria termille: \"Digestive System Processes\""
       ]
      },
      {
       "output_type": "stream",
       "stream": "stdout",
       "text": [
        "\n",
        "Ei uria termille: \"Dislocations\""
       ]
      },
      {
       "output_type": "stream",
       "stream": "stdout",
       "text": [
        "\n",
        "Ei uria termille: \"Drug-Induced Liver Injury\""
       ]
      },
      {
       "output_type": "stream",
       "stream": "stdout",
       "text": [
        "\n",
        "Ei uria termille: \"Ecological and Environmental Processes\""
       ]
      },
      {
       "output_type": "stream",
       "stream": "stdout",
       "text": [
        "\n",
        "Ei uria termille: \"Electrophysiological Processes\""
       ]
      },
      {
       "output_type": "stream",
       "stream": "stdout",
       "text": [
        "\n",
        "Ei uria termille: \"Feline panleukopenia virus\""
       ]
      },
      {
       "output_type": "stream",
       "stream": "stdout",
       "text": [
        "\n",
        "Ei uria termille: \"Female\""
       ]
      },
      {
       "output_type": "stream",
       "stream": "stdout",
       "text": [
        "\n",
        "Ei uria termille: \"Food Habits\""
       ]
      },
      {
       "output_type": "stream",
       "stream": "stdout",
       "text": [
        "\n",
        "Ei uria termille: \"Functional Behavior, Psychology\""
       ]
      },
      {
       "output_type": "stream",
       "stream": "stdout",
       "text": [
        "\n",
        "Ei uria termille: \"G0 Phase\""
       ]
      },
      {
       "output_type": "stream",
       "stream": "stdout",
       "text": [
        "\n",
        "Ei uria termille: \"Genetic Processes\""
       ]
      },
      {
       "output_type": "stream",
       "stream": "stdout",
       "text": [
        "\n",
        "Ei uria termille: \"Geological Processes\""
       ]
      },
      {
       "output_type": "stream",
       "stream": "stdout",
       "text": [
        "\n",
        "Ei uria termille: \"Gizzard\""
       ]
      },
      {
       "output_type": "stream",
       "stream": "stdout",
       "text": [
        "\n",
        "Ei uria termille: \"Great Britain\""
       ]
      },
      {
       "output_type": "stream",
       "stream": "stdout",
       "text": [
        "\n",
        "Ei uria termille: \"Guanylate Kinase\""
       ]
      },
      {
       "output_type": "stream",
       "stream": "stdout",
       "text": [
        "\n",
        "Ei uria termille: \"Heterocyclic Compounds with 4 or More Rings\""
       ]
      },
      {
       "output_type": "stream",
       "stream": "stdout",
       "text": [
        "\n",
        "Ei uria termille: \"Immune System Processes\""
       ]
      },
      {
       "output_type": "stream",
       "stream": "stdout",
       "text": [
        "\n",
        "Ei uria termille: \"Immunogenetic Processes\""
       ]
      },
      {
       "output_type": "stream",
       "stream": "stdout",
       "text": [
        "\n",
        "Ei uria termille: \"Institute of Medicine (U.S.)\""
       ]
      },
      {
       "output_type": "stream",
       "stream": "stdout",
       "text": [
        "\n",
        "Ei uria termille: \"Lecithin Acyltransferase Deficiency\""
       ]
      },
      {
       "output_type": "stream",
       "stream": "stdout",
       "text": [
        "\n",
        "Ei uria termille: \"Lotus\""
       ]
      },
      {
       "output_type": "stream",
       "stream": "stdout",
       "text": [
        "\n",
        "Ei uria termille: \"Male\""
       ]
      },
      {
       "output_type": "stream",
       "stream": "stdout",
       "text": [
        "\n",
        "Ei uria termille: \"Mechanical Processes\""
       ]
      },
      {
       "output_type": "stream",
       "stream": "stdout",
       "text": [
        "\n",
        "Ei uria termille: \"Mental Disorders Diagnosed in Childhood\""
       ]
      },
      {
       "output_type": "stream",
       "stream": "stdout",
       "text": [
        "\n",
        "Ei uria termille: \"Metabolic Phenomena\""
       ]
      },
      {
       "output_type": "stream",
       "stream": "stdout",
       "text": [
        "\n",
        "Ei uria termille: \"Microbiological Processes\""
       ]
      },
      {
       "output_type": "stream",
       "stream": "stdout",
       "text": [
        "\n",
        "Ei uria termille: \"Microfilaria\""
       ]
      },
      {
       "output_type": "stream",
       "stream": "stdout",
       "text": [
        "\n",
        "Ei uria termille: \"Mild Cognitive Impairment\""
       ]
      },
      {
       "output_type": "stream",
       "stream": "stdout",
       "text": [
        "\n",
        "Ei uria termille: \"Musculoskeletal Physiological Processes\""
       ]
      },
      {
       "output_type": "stream",
       "stream": "stdout",
       "text": [
        "\n",
        "Ei uria termille: \"Nervous System Physiological Processes\""
       ]
      },
      {
       "output_type": "stream",
       "stream": "stdout",
       "text": [
        "\n",
        "Ei uria termille: \"Newspapers\""
       ]
      },
      {
       "output_type": "stream",
       "stream": "stdout",
       "text": [
        "\n",
        "Ei uria termille: \"Nuclear Reprogramming\""
       ]
      },
      {
       "output_type": "stream",
       "stream": "stdout",
       "text": [
        "\n",
        "Ei uria termille: \"Nutrition Processes\""
       ]
      },
      {
       "output_type": "stream",
       "stream": "stdout",
       "text": [
        "\n",
        "Ei uria termille: \"Obsessive Hoarding\""
       ]
      },
      {
       "output_type": "stream",
       "stream": "stdout",
       "text": [
        "\n",
        "Ei uria termille: \"Ocular Physiological Processes\""
       ]
      },
      {
       "output_type": "stream",
       "stream": "stdout",
       "text": [
        "\n",
        "Ei uria termille: \"Odors\""
       ]
      },
      {
       "output_type": "stream",
       "stream": "stdout",
       "text": [
        "\n",
        "Ei uria termille: \"Optical Processes\""
       ]
      },
      {
       "output_type": "stream",
       "stream": "stdout",
       "text": [
        "\n",
        "Ei uria termille: \"Organic Anion Transport Polypeptide C\""
       ]
      },
      {
       "output_type": "stream",
       "stream": "stdout",
       "text": [
        "\n",
        "Ei uria termille: \"Organic Chemistry Processes\""
       ]
      },
      {
       "output_type": "stream",
       "stream": "stdout",
       "text": [
        "\n",
        "Ei uria termille: \"Pharmacists' Aides\""
       ]
      },
      {
       "output_type": "stream",
       "stream": "stdout",
       "text": [
        "\n",
        "Ei uria termille: \"Physical Processes\""
       ]
      },
      {
       "output_type": "stream",
       "stream": "stdout",
       "text": [
        "\n",
        "Ei uria termille: \"Physicochemical Phenomena\""
       ]
      },
      {
       "output_type": "stream",
       "stream": "stdout",
       "text": [
        "\n",
        "Ei uria termille: \"Physicochemical Processes\"\n",
        "Ei uria termille: \"Physiological Processes\""
       ]
      },
      {
       "output_type": "stream",
       "stream": "stdout",
       "text": [
        "\n",
        "Ei uria termille: \"Plant Physiological Processes\""
       ]
      },
      {
       "output_type": "stream",
       "stream": "stdout",
       "text": [
        "\n",
        "Ei uria termille: \"Pneumocystis jirovecii\""
       ]
      },
      {
       "output_type": "stream",
       "stream": "stdout",
       "text": [
        "\n",
        "Ei uria termille: \"Pneumocytes\"\n",
        "Ei uria termille: \"Prostitution\""
       ]
      },
      {
       "output_type": "stream",
       "stream": "stdout",
       "text": [
        "\n",
        "Ei uria termille: \"Pseudocowpox virus\""
       ]
      },
      {
       "output_type": "stream",
       "stream": "stdout",
       "text": [
        "\n",
        "Ei uria termille: \"Psilocybine\""
       ]
      },
      {
       "output_type": "stream",
       "stream": "stdout",
       "text": [
        "\n",
        "Ei uria termille: \"Renal Osteodystrophy\""
       ]
      },
      {
       "output_type": "stream",
       "stream": "stdout",
       "text": [
        "\n",
        "Ei uria termille: \"Reproductive Physiological Processes\""
       ]
      },
      {
       "output_type": "stream",
       "stream": "stdout",
       "text": [
        "\n",
        "Ei uria termille: \"Respiratory Physiological Processes\""
       ]
      },
      {
       "output_type": "stream",
       "stream": "stdout",
       "text": [
        "\n",
        "Ei uria termille: \"Absorptio hengityselinten kautta\""
       ]
      },
      {
       "output_type": "stream",
       "stream": "stdout",
       "text": [
        "\n",
        "Ei uria termille: \"RNA Recognition Motif (RRM) Proteins\""
       ]
      },
      {
       "output_type": "stream",
       "stream": "stdout",
       "text": [
        "\n",
        "Ei uria termille: \"Skin Physiological Processes\""
       ]
      },
      {
       "output_type": "stream",
       "stream": "stdout",
       "text": [
        "\n",
        "Ei uria termille: \"Smilacina\""
       ]
      },
      {
       "output_type": "stream",
       "stream": "stdout",
       "text": [
        "\n",
        "Ei uria termille: \"Tetrachlorodibenzodioxin\""
       ]
      },
      {
       "output_type": "stream",
       "stream": "stdout",
       "text": [
        "\n",
        "Ei uria termille: \"Tooth Movement\""
       ]
      },
      {
       "output_type": "stream",
       "stream": "stdout",
       "text": [
        "\n",
        "Ei uria termille: \"Twist Transcription Factor\""
       ]
      },
      {
       "output_type": "stream",
       "stream": "stdout",
       "text": [
        "\n",
        "Ei uria termille: \"Urginea\""
       ]
      },
      {
       "output_type": "stream",
       "stream": "stdout",
       "text": [
        "\n",
        "Ei uria termille: \"Urinary Tract Physiological Processes\""
       ]
      },
      {
       "output_type": "stream",
       "stream": "stdout",
       "text": [
        "\n",
        "Ei uria termille: \"Virus Physiological Processes\""
       ]
      },
      {
       "output_type": "stream",
       "stream": "stdout",
       "text": [
        "\n",
        "Ei uria termille: \"Zona incerta\""
       ]
      },
      {
       "output_type": "stream",
       "stream": "stdout",
       "text": [
        "\n",
        "vanhassa: 23569"
       ]
      },
      {
       "output_type": "stream",
       "stream": "stdout",
       "text": [
        "\n",
        "uudessa: 28418\n",
        "uusia: 4849\n",
        "ongelmak\u00e4sitteit\u00e4: 2601\n",
        "uusien k\u00e4sitteiden altteja: 6998\n",
        "556.105763197\n"
       ]
      }
     ],
     "prompt_number": 110
    },
    {
     "cell_type": "code",
     "collapsed": false,
     "input": [
      "finmesh.serialize('finmesh.ttl',format=\"turtle\")"
     ],
     "language": "python",
     "metadata": {},
     "outputs": [],
     "prompt_number": 111
    },
    {
     "cell_type": "code",
     "collapsed": false,
     "input": [
      "print str(len(mysteerialtit))"
     ],
     "language": "python",
     "metadata": {},
     "outputs": [
      {
       "output_type": "stream",
       "stream": "stdout",
       "text": [
        "8329\n"
       ]
      }
     ],
     "prompt_number": 112
    },
    {
     "cell_type": "code",
     "collapsed": false,
     "input": [
      "start = time.time()\n",
      "gone = []\n",
      "for conc in old:\n",
      "    if conc not in new:\n",
      "        gone.append(conc)\n",
      "print len(gone)\n",
      "#for alt in mysteerialtit[300:400]:\n",
      "#    print alt\n",
      "end = time.time()\n",
      "print(end - start)"
     ],
     "language": "python",
     "metadata": {},
     "outputs": [
      {
       "output_type": "stream",
       "stream": "stdout",
       "text": [
        "46\n",
        "242.307602167\n"
       ]
      }
     ],
     "prompt_number": 113
    },
    {
     "cell_type": "code",
     "collapsed": false,
     "input": [
      "for conc in gone:\n",
      "    print conc"
     ],
     "language": "python",
     "metadata": {},
     "outputs": [],
     "prompt_number": 38
    },
    {
     "cell_type": "code",
     "collapsed": false,
     "input": [
      "#swe_labels = codecs.open('terms.txt', 'rU', 'utf-8')\n",
      "f = open('terms.txt', 'rb')\n",
      "r = csv.reader(f, encoding='latin-1', delimiter='\\t')\n",
      "r.next()\n",
      "swemesh = Graph()\n",
      "\n",
      "for row in r:\n",
      "    #print row\n",
      "    uri = URIRef(\"http://www.yso.fi/onto/mesh/\" + str(row[0]))\n",
      "    en = new_mesh.preferredLabel(uri, lang='en')\n",
      "    if len(en) > 0:\n",
      "        en = en[0]\n",
      "    if len(en) > 1 and en[1] in row[1]:\n",
      "        swemesh.add((uri, skos.prefLabel, Literal(row[2],lang='sv')))\n",
      "    else:\n",
      "        print 'error' \n",
      "        print row\n",
      "        swemesh.add((uri, skos.prefLabel, Literal(row[2],lang='sv')))"
     ],
     "language": "python",
     "metadata": {},
     "outputs": [
      {
       "output_type": "stream",
       "stream": "stdout",
       "text": [
        "error\n",
        "[u'D005260', u'Female', u'Kvinnlig']\n",
        "error"
       ]
      },
      {
       "output_type": "stream",
       "stream": "stdout",
       "text": [
        "\n",
        "[u'D008297', u'Male', u'Manlig']\n"
       ]
      }
     ],
     "prompt_number": 48
    },
    {
     "cell_type": "code",
     "collapsed": false,
     "input": [
      "f = open('synonyms.txt', 'rb')\n",
      "r = csv.reader(f, encoding='latin-1', delimiter='\\t')\n",
      "r.next()\n",
      "\n",
      "for row in r:\n",
      "    uri = URIRef(\"http://www.yso.fi/onto/mesh/\" + str(row[2]))\n",
      "    swemesh.add((uri, skos.altLabel, Literal(row[1],lang='sv')))"
     ],
     "language": "python",
     "metadata": {},
     "outputs": [],
     "prompt_number": 51
    },
    {
     "cell_type": "code",
     "collapsed": false,
     "input": [
      "f = open('swe_scope_notes.txt', 'rb')\n",
      "r = csv.reader(f, encoding='latin-1', delimiter='\\t')\n",
      "r.next()\n",
      "\n",
      "for row in r:\n",
      "    uri = URIRef(\"http://www.yso.fi/onto/mesh/\" + str(row[0]))\n",
      "    swemesh.add((uri, skos.scopeNote, Literal(row[2],lang='sv')))"
     ],
     "language": "python",
     "metadata": {},
     "outputs": [],
     "prompt_number": 53
    },
    {
     "cell_type": "code",
     "collapsed": false,
     "input": [
      "swemesh.serialize('swemesh.ttl', format='turtle')"
     ],
     "language": "python",
     "metadata": {},
     "outputs": [],
     "prompt_number": 54
    },
    {
     "cell_type": "code",
     "collapsed": false,
     "input": [],
     "language": "python",
     "metadata": {},
     "outputs": []
    }
   ],
   "metadata": {}
  }
 ]
}